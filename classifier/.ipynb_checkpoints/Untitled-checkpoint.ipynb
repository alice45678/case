{
 "cells": [
  {
   "cell_type": "markdown",
   "id": "dd1e5148",
   "metadata": {},
   "source": [
    "## This notebook preprocessed the raw dataset and trained machine learning models to classify news titles into 4 categories."
   ]
  },
  {
   "cell_type": "code",
   "execution_count": 1,
   "id": "35184554",
   "metadata": {},
   "outputs": [],
   "source": [
    "import matplotlib.pyplot as plt\n",
    "import numpy as np\n",
    "import pandas as pd\n",
    "import os\n",
    "import re\n",
    "import time\n",
    "from tqdm import tqdm\n",
    "\n",
    "from sklearn import preprocessing\n",
    "from sklearn.feature_extraction.text import TfidfVectorizer\n",
    "from sklearn.model_selection import train_test_split, StratifiedKFold, KFold\n",
    "from sklearn.linear_model import LogisticRegression\n",
    "from sklearn.ensemble import RandomForestClassifier, GradientBoostingClassifier\n",
    "from sklearn.metrics import classification_report\n",
    "from sklearn.metrics import confusion_matrix\n",
    "from sklearn.metrics import plot_confusion_matrix\n",
    "from sklearn.metrics import precision_recall_fscore_support as score\n",
    "\n",
    "import tensorflow_data_validation as tfdv"
   ]
  },
  {
   "cell_type": "markdown",
   "id": "456ded96",
   "metadata": {},
   "source": [
    "### Load data"
   ]
  },
  {
   "cell_type": "code",
   "execution_count": 2,
   "id": "50051977",
   "metadata": {},
   "outputs": [],
   "source": [
    "path_data = '/Users/dehongyuan/Desktop/MyProject/Ing/ML_classification/data/NewsAggregatorDataset'\n",
    "path_page = os.path.join(path_data, '2pageSessions.csv')\n",
    "path_news = os.path.join(path_data, 'newsCorpora.csv')\n",
    "\n",
    "cols = ['id', 'title', 'url', 'pulisher', 'category', 'story', 'hostname', 'timestep']\n",
    "df_news = pd.read_csv(path_news, sep='\\t', header=None, names=cols)\n",
    "df_news.head()"
   ]
  },
  {
   "cell_type": "markdown",
   "id": "7fd2c4b7",
   "metadata": {},
   "source": [
    "### Data Validation and Visualization"
   ]
  },
  {
   "cell_type": "code",
   "execution_count": 5,
   "id": "4d358f23",
   "metadata": {},
   "outputs": [],
   "source": [
    "# Generate training dataset statistics\n",
    "data_stats = tfdv.generate_statistics_from_dataframe(df_news)\n",
    "# Visualize training dataset statistics\n",
    "tfdv.visualize_statistics(data_stats)"
   ]
  },
  {
   "cell_type": "markdown",
   "id": "a922f793",
   "metadata": {},
   "source": [
    "### Data Preprocessing"
   ]
  },
  {
   "cell_type": "markdown",
   "id": "ea4d5922",
   "metadata": {},
   "source": [
    "Prepare the Dataset\n",
    "After text preprocessing, we need to perform feature engineering and data prepration. We convert the text to vector representation using tfidf method. In this process, I consider the following options:\n",
    "\n",
    "Remove stop words\n",
    "\n",
    "Remove domain specific stop words, i.e. words that are rare (appear in 3 documents or less) or too common (occur in more that 90% of the documents)\n",
    "\n",
    "Utilize unigrams, bigrams, etc\n",
    "\n",
    "Use all the features (words) or a subset of them\n",
    "\n",
    "Encode the class labels into numbers"
   ]
  },
  {
   "cell_type": "code",
   "execution_count": 20,
   "id": "8f45eac9",
   "metadata": {},
   "outputs": [],
   "source": [
    "def preprocess_text(text: str) -> str:\n",
    "    \"\"\" Remove special characters, punctuations, etc.\n",
    "    Args:\n",
    "        text: input text\n",
    "    \n",
    "    Returns:\n",
    "        text: preprocessed text (removed puncutations, numbers)\n",
    "    \"\"\"\n",
    "    text = text.lower()\n",
    "    remove_numbers = re.compile('[0-9]+')\n",
    "    remove_special_characters = re.compile('[^A-Za-z0-9]+')\n",
    "    \n",
    "    text = re.sub(remove_numbers, ' ', text)\n",
    "    text = re.sub(remove_special_characters, ' ', text)\n",
    "    return text.strip()\n",
    "\n",
    "\n",
    "def compute_tfidf(corpus:pd.Series, \n",
    "                  stop_words='english', \n",
    "                  ngram_range=(1, 1), \n",
    "                  max_features=None):\n",
    "    \"\"\" Convert text to a matrix of TF-IDF features.\n",
    "    Args:\n",
    "        corpus: input content\n",
    "        stop_words:\n",
    "        ngram_range:\n",
    "        max_features:\n",
    "        \n",
    "    Returns:\n",
    "        X: matrix of TF-IDF features\n",
    "        vectorizer: TfidfVectorizer object\n",
    "    \"\"\"\n",
    "    vectorizer = TfidfVectorizer(\n",
    "        input='content', \n",
    "        stop_words=stop_words,\n",
    "        ngram_range=ngram_range,\n",
    "        min_df=3,\n",
    "        max_df=0.9,\n",
    "        max_features=max_features\n",
    "    )\n",
    "    print('Computing tfidf features...', end='')\n",
    "    X = vectorizer.fit_transform(corpus)\n",
    "    print('done!')\n",
    "    return X, vectorizer\n",
    "\n",
    "\n",
    "def encode_labels(labels: list, data: pd.Series) -> pd.Series:\n",
    "    \"\"\" Encode labels into numbers.\n",
    "    Args:\n",
    "        labels: labels for classes\n",
    "        data: target data\n",
    "    \n",
    "    Returns\n",
    "        result: encoded target data \n",
    "    \"\"\"\n",
    "    label_encoder = preprocessing.LabelEncoder()\n",
    "    label_encoder.fit(labels)\n",
    "    result = label_encoder.transform(data)\n",
    "    return result\n",
    "\n",
    "\n",
    "def train_test_model(model, X_train, X_test, y_train, y_test,labels):\n",
    "    \"\"\" Train and test the model using the training and test data sets. Return the predictions, accuracy and metric reports. \"\"\"\n",
    "    print('Start training...', end='')\n",
    "    model.fit(X_train, y_train)\n",
    "    print('done!')\n",
    "    print('Start testing...', end='')\n",
    "    predictions = model.predict(X_test)\n",
    "    accuracy = model.score(X_test, y_test)\n",
    "    metrics_report = classification_report(y_test, predictions, target_names=labels)\n",
    "    precision, recall, fscore, train_support = score(y_test, predictions, average='weighted')\n",
    "    print('done!')\n",
    "    return predictions, accuracy, metrics_report, (precision, recall, fscore)"
   ]
  },
  {
   "cell_type": "code",
   "execution_count": null,
   "id": "53984589",
   "metadata": {},
   "outputs": [],
   "source": [
    "# remove unwanted columns and only leave title and category\n",
    "df = df_news[['title', 'category']]\n",
    "df.head()\n",
    "\n",
    "# clean the title\n",
    "df['title'] = df['title'].apply(preprocess_text)\n",
    "\n",
    "# remove stop words\n",
    "stop_words = 'english'\n",
    "ngram_range = (1, 1)\n",
    "max_features = None\n",
    "X, vectorizer = compute_tfidf(df['title'], stop_words, ngram_range, max_features)\n",
    "\n",
    "# encode labels\n",
    "labels = df['category'].unique()\n",
    "y = encode_labels(labels=labels, data=df['category'])"
   ]
  },
  {
   "cell_type": "code",
   "execution_count": 24,
   "id": "5beddb28",
   "metadata": {},
   "outputs": [
    {
     "name": "stdout",
     "output_type": "stream",
     "text": [
      "Training set Shape: (337935, 27248)  | Test set Shape: (84484, 27248)\n"
     ]
    }
   ],
   "source": [
    "# split the dataset into train and test sets\n",
    "X_train, X_test, y_train, y_test = train_test_split(X, y, test_size=0.2, stratify=y)\n",
    "print('Training set Shape: {}  | Test set Shape: {}'.format(X_train.shape, X_test.shape))"
   ]
  },
  {
   "cell_type": "markdown",
   "id": "ec6752fa",
   "metadata": {},
   "source": [
    "### Build and train models"
   ]
  },
  {
   "cell_type": "markdown",
   "id": "5b167c3e",
   "metadata": {},
   "source": [
    "### Logistic Regression"
   ]
  },
  {
   "cell_type": "code",
   "execution_count": 28,
   "id": "5fab8793",
   "metadata": {},
   "outputs": [
    {
     "name": "stdout",
     "output_type": "stream",
     "text": [
      "Number of documents = 337935  |  Number of features = 27248\n",
      "Start training...done!\n",
      "Start testing...done!\n",
      "Total time: 58.70s\n",
      "accuracy: 0.9461791581837982\n",
      "====================================================================================================\n",
      "              precision    recall  f1-score   support\n",
      "\n",
      "           b       0.93      0.93      0.93     23193\n",
      "           t       0.97      0.98      0.97     30494\n",
      "           e       0.96      0.92      0.94      9128\n",
      "           m       0.93      0.93      0.93     21669\n",
      "\n",
      "    accuracy                           0.95     84484\n",
      "   macro avg       0.95      0.94      0.94     84484\n",
      "weighted avg       0.95      0.95      0.95     84484\n",
      "\n"
     ]
    },
    {
     "data": {
      "text/plain": [
       "<sklearn.metrics._plot.confusion_matrix.ConfusionMatrixDisplay at 0x17428cca0>"
      ]
     },
     "execution_count": 28,
     "metadata": {},
     "output_type": "execute_result"
    },
    {
     "data": {
      "image/png": "[encoded data removed]",
      "text/plain": [
       "<Figure size 432x288 with 2 Axes>"
      ]
     },
     "metadata": {
      "needs_background": "light"
     },
     "output_type": "display_data"
    }
   ],
   "source": [
    "log_model = LogisticRegression(penalty='l2', max_iter=1000)\n",
    "print('Number of documents = {}  |  Number of features = {}'.format(X_train.shape[0], X_train.shape[1]))\n",
    "st_time = time.time()\n",
    "predictions, accuracy, metrics_report, log_prf = train_test_model(log_model, X_train, X_test, y_train, y_test, labels)\n",
    "en_time = time.time()\n",
    "print('Total time: {:.2f}s'.format(en_time-st_time))\n",
    "print('accuracy: {}'.format(accuracy))\n",
    "print('='*100)\n",
    "print(metrics_report)\n",
    "plot_confusion_matrix(log_model, X_test, y_test, display_labels=labels, xticks_rotation='vertical', cmap=\"BuPu\")"
   ]
  },
  {
   "cell_type": "markdown",
   "id": "3cee9a1a",
   "metadata": {},
   "source": [
    "### Random Forest"
   ]
  },
  {
   "cell_type": "code",
   "execution_count": 29,
   "id": "689b33e1",
   "metadata": {},
   "outputs": [
    {
     "name": "stdout",
     "output_type": "stream",
     "text": [
      "Number of documents = 337935  |  Number of features = 27248\n",
      "Start training...done!\n",
      "Start testing...done!\n",
      "Total time: 79.68s\n",
      "accuracy: 0.7962572794848729\n",
      "====================================================================================================\n",
      "              precision    recall  f1-score   support\n",
      "\n",
      "           b       0.91      0.71      0.80     23193\n",
      "           t       0.68      0.99      0.80     30494\n",
      "           e       0.96      0.54      0.69      9128\n",
      "           m       0.93      0.73      0.82     21669\n",
      "\n",
      "    accuracy                           0.80     84484\n",
      "   macro avg       0.87      0.74      0.78     84484\n",
      "weighted avg       0.84      0.80      0.79     84484\n",
      "\n"
     ]
    },
    {
     "data": {
      "text/plain": [
       "<sklearn.metrics._plot.confusion_matrix.ConfusionMatrixDisplay at 0x174283d90>"
      ]
     },
     "execution_count": 29,
     "metadata": {},
     "output_type": "execute_result"
    },
    {
     "data": {
      "image/png": "[encoded data removed]",
      "text/plain": [
       "<Figure size 432x288 with 2 Axes>"
      ]
     },
     "metadata": {
      "needs_background": "light"
     },
     "output_type": "display_data"
    }
   ],
   "source": [
    "rf_model = RandomForestClassifier(n_estimators=50, max_depth=10, min_samples_split=10, n_jobs=-1, verbose=0)\n",
    "print('Number of documents = {}  |  Number of features = {}'.format(X_train.shape[0], X_train.shape[1]))\n",
    "st_time = time.time()\n",
    "predictions, accuracy, metrics_report, rf_prf = train_test_model(rf_model, X_train, X_test, y_train, y_test, labels)\n",
    "en_time = time.time()\n",
    "print('Total time: {:.2f}s'.format(en_time-st_time))\n",
    "print('accuracy: {}'.format(accuracy))\n",
    "print('='*100)\n",
    "print(metrics_report)\n",
    "plot_confusion_matrix(rf_model, X_test, y_test, display_labels=labels, xticks_rotation='vertical', cmap=\"BuPu\")"
   ]
  },
  {
   "cell_type": "markdown",
   "id": "d4de34e5",
   "metadata": {},
   "source": [
    "### Gradient Boosting"
   ]
  },
  {
   "cell_type": "code",
   "execution_count": 31,
   "id": "e3a4cc83",
   "metadata": {},
   "outputs": [
    {
     "name": "stdout",
     "output_type": "stream",
     "text": [
      "Start training...done!\n",
      "Start testing...done!\n",
      "Total time: 786.70s\n",
      "accuracy: 0.7910373561857866\n",
      "              precision    recall  f1-score   support\n",
      "\n",
      "           b       0.92      0.67      0.77     23193\n",
      "           t       0.67      0.99      0.80     30494\n",
      "           e       0.94      0.63      0.75      9128\n",
      "           m       0.92      0.72      0.81     21669\n",
      "\n",
      "    accuracy                           0.79     84484\n",
      "   macro avg       0.86      0.75      0.78     84484\n",
      "weighted avg       0.83      0.79      0.79     84484\n",
      "\n"
     ]
    },
    {
     "data": {
      "text/plain": [
       "<sklearn.metrics._plot.confusion_matrix.ConfusionMatrixDisplay at 0x163d395b0>"
      ]
     },
     "execution_count": 31,
     "metadata": {},
     "output_type": "execute_result"
    },
    {
     "data": {
      "image/png": "[encoded data removed]",
      "text/plain": [
       "<Figure size 432x288 with 2 Axes>"
      ]
     },
     "metadata": {
      "needs_background": "light"
     },
     "output_type": "display_data"
    }
   ],
   "source": [
    "gb_model = GradientBoostingClassifier(n_estimators=50, max_depth=10)\n",
    "st_time = time.time()\n",
    "predictions, accuracy, metrics_report, gb_prf = train_test_model(gb_model, X_train, X_test, y_train, y_test, labels)\n",
    "en_time = time.time()\n",
    "print('Total time: {:.2f}s'.format(en_time-st_time))\n",
    "print('accuracy: {}'.format(accuracy))\n",
    "print(metrics_report)\n",
    "plot_confusion_matrix(gb_model, X_test, y_test, display_labels=labels, xticks_rotation='vertical', cmap=\"BuPu\")"
   ]
  },
  {
   "cell_type": "markdown",
   "id": "1b67b7e3",
   "metadata": {},
   "source": [
    "### Compare Performance"
   ]
  },
  {
   "cell_type": "code",
   "execution_count": 41,
   "id": "291a775f",
   "metadata": {},
   "outputs": [
    {
     "data": {
      "image/png": "[encoded data removed]",
      "text/plain": [
       "<Figure size 432x288 with 1 Axes>"
      ]
     },
     "metadata": {
      "needs_background": "light"
     },
     "output_type": "display_data"
    }
   ],
   "source": [
    "xx = np.array([1,2,3])\n",
    "width = 0.15\n",
    "\n",
    "ax = plt.subplot(111)\n",
    "ax.bar(xx ,height=np.array(log_prf), width=width, color='g', align='center', label='Log_Reg', tick_label=['Precision', 'Recall', 'f1'])\n",
    "ax.bar(xx + width, height=np.array(rf_prf), width=width, color='y', align='center', label='Random Forest')\n",
    "ax.bar(xx + 2*width, height=np.array(gb_prf), width=width, color='b', align='center', label='Gradient Boosting')\n",
    "\n",
    "\n",
    "plt.xlabel('Classification Metrics')\n",
    "plt.ylabel('Scores')\n",
    "plt.legend(bbox_to_anchor=(1.05, 1.0))\n",
    "plt.show()"
   ]
  },
  {
   "cell_type": "markdown",
   "id": "581ec261",
   "metadata": {},
   "source": [
    "### Compare Training Time"
   ]
  },
  {
   "cell_type": "code",
   "execution_count": 47,
   "id": "6b04a111",
   "metadata": {},
   "outputs": [
    {
     "data": {
      "image/png": "[encoded data removed]",
      "text/plain": [
       "<Figure size 432x288 with 1 Axes>"
      ]
     },
     "metadata": {
      "needs_background": "light"
     },
     "output_type": "display_data"
    }
   ],
   "source": [
    "tr_times = [('Logistic_Regression', 58,70), ('Random_Forest', 280.10), ('Gradient_Boost', 786.70)]\n",
    "x_vals = []\n",
    "h_vals = []\n",
    "for t in tr_times:\n",
    "    x_vals.append(t[0])\n",
    "    h_vals.append(t[1])\n",
    "    \n",
    "ax = plt.subplot(111)\n",
    "ax.bar(np.linspace(0,1,3) - width, height=np.array(h_vals), width=width, color='Green', tick_label=x_vals)\n",
    "plt.xlabel('Techniques')\n",
    "plt.ylabel('Training Time(s)')\n",
    "plt.show()"
   ]
  },
  {
   "cell_type": "markdown",
   "id": "a6d53815",
   "metadata": {},
   "source": [
    "### Cross Validation"
   ]
  },
  {
   "cell_type": "code",
   "execution_count": 46,
   "id": "823a0d55",
   "metadata": {},
   "outputs": [
    {
     "name": "stdout",
     "output_type": "stream",
     "text": [
      "Start training...done!\n",
      "Start testing...done!\n",
      "Start training...done!\n",
      "Start testing...done!\n",
      "Start training...done!\n",
      "Start testing...done!\n",
      "Start training...done!\n",
      "Start testing...done!\n",
      "Start training...done!\n",
      "Start testing...done!\n",
      "Total time: 295.21s\n",
      "mean accuracy: 0.95\n"
     ]
    }
   ],
   "source": [
    "from sklearn.model_selection import train_test_split, StratifiedKFold, KFold\n",
    "skfold = StratifiedKFold(n_splits=5, shuffle=True, random_state=123)\n",
    "log_model = LogisticRegression(penalty='l2', max_iter=1000)\n",
    "accs = []\n",
    "reports = []\n",
    "st_time = time.time()\n",
    "for train_index, test_index in skfold.split(X,y):\n",
    "    X_train, X_test = X[train_index], X[test_index]\n",
    "    y_train, y_test = y[train_index], y[test_index]\n",
    "    predictions, accuracy, metrics_report, log_prf = train_test_model(log_model, X_train, X_test, y_train, y_test, labels)\n",
    "    accs.append(accuracy)\n",
    "    reports.append(metrics_report)\n",
    "\n",
    "en_time = time.time()\n",
    "print('Total time: {:.2f}s'.format(en_time-st_time))   \n",
    "print('mean accuracy: {:.2f}'.format(np.mean(accs)))"
   ]
  },
  {
   "cell_type": "code",
   "execution_count": null,
   "id": "ff9286b5",
   "metadata": {},
   "outputs": [],
   "source": []
  }
 ],
 "metadata": {
  "kernelspec": {
   "display_name": "Python 3",
   "language": "python",
   "name": "python3"
  },
  "language_info": {
   "codemirror_mode": {
    "name": "ipython",
    "version": 3
   },
   "file_extension": ".py",
   "mimetype": "text/x-python",
   "name": "python",
   "nbconvert_exporter": "python",
   "pygments_lexer": "ipython3",
   "version": "3.8.8"
  }
 },
 "nbformat": 4,
 "nbformat_minor": 5
}
